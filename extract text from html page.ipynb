{
 "cells": [
  {
   "cell_type": "markdown",
   "metadata": {},
   "source": [
    "# example 1"
   ]
  },
  {
   "cell_type": "code",
   "execution_count": 2,
   "metadata": {},
   "outputs": [],
   "source": [
    "import urllib.request\n",
    "\n",
    "uf = urllib.request.urlopen('http://warstek.com')\n",
    "html = uf.read()\n",
    "\n",
    "print(html)"
   ]
  },
  {
   "cell_type": "code",
   "execution_count": null,
   "metadata": {},
   "outputs": [],
   "source": []
  },
  {
   "cell_type": "markdown",
   "metadata": {},
   "source": [
    "# example 2"
   ]
  },
  {
   "cell_type": "code",
   "execution_count": null,
   "metadata": {},
   "outputs": [],
   "source": [
    "import requests\n",
    "url = 'https://assets.digitalocean.com/articles/eng_python/beautiful-soup/mockturtle.html'\n",
    "page = requests.get(url)\n",
    "page\n",
    "\n",
    "page.status_code\n",
    "\n",
    "page.text\n",
    "\n",
    "from bs4 import BeautifulSoup\n",
    "\n",
    "soup = BeautifulSoup(page.text, 'html.parser')\n",
    "\n",
    "print(soup.prettify())\n",
    "\n",
    "soup.find_all('p')\n",
    "\n",
    "soup.find_all('p')[2].get_text\n",
    "\n",
    "soup.find_all(class_='chorus')\n",
    "\n",
    "soup.find_all('p', class_='chorus')\n",
    "\n",
    "soup.find_all(id='third')\n",
    "\n"
   ]
  },
  {
   "cell_type": "code",
   "execution_count": null,
   "metadata": {},
   "outputs": [],
   "source": []
  },
  {
   "cell_type": "markdown",
   "metadata": {},
   "source": [
    "# example 3"
   ]
  },
  {
   "cell_type": "code",
   "execution_count": 78,
   "metadata": {},
   "outputs": [
    {
     "data": {
      "text/plain": [
       "<Response [200]>"
      ]
     },
     "execution_count": 78,
     "metadata": {},
     "output_type": "execute_result"
    }
   ],
   "source": [
    "import requests\n",
    "\n",
    "page = requests.get(\"https://assets.digitalocean.com/articles/eng_python/beautiful-soup/mockturtle.html\")\n",
    "page"
   ]
  },
  {
   "cell_type": "code",
   "execution_count": 79,
   "metadata": {},
   "outputs": [
    {
     "data": {
      "text/plain": [
       "200"
      ]
     },
     "execution_count": 79,
     "metadata": {},
     "output_type": "execute_result"
    }
   ],
   "source": [
    "page.status_code"
   ]
  },
  {
   "cell_type": "code",
   "execution_count": 80,
   "metadata": {},
   "outputs": [
    {
     "data": {
      "text/plain": [
       "b'<!DOCTYPE html PUBLIC \"-//W3C//DTD XHTML 1.0 Strict//EN\"\\n    \"http://www.w3.org/TR/xhtml1/DTD/xhtml1-strict.dtd\">\\n\\n<html lang=\"en-US\" xmlns=\"http://www.w3.org/1999/xhtml\" xml:lang=\"en-US\">\\n<head>\\n  <meta http-equiv=\"content-type\" content=\"text/html; charset=us-ascii\" />\\n\\n  <title>Turtle Soup</title>\\n</head>\\n\\n<body>\\n  <h1>Turtle Soup</h1>\\n\\n  <p class=\"verse\" id=\"first\">Beautiful Soup, so rich and green,<br />\\n  Waiting in a hot tureen!<br />\\n  Who for such dainties would not stoop?<br />\\n  Soup of the evening, beautiful Soup!<br />\\n  Soup of the evening, beautiful Soup!<br /></p>\\n\\n  <p class=\"chorus\" id=\"second\">Beau--ootiful Soo--oop!<br />\\n  Beau--ootiful Soo--oop!<br />\\n  Soo--oop of the e--e--evening,<br />\\n  Beautiful, beautiful Soup!<br /></p>\\n\\n  <p class=\"verse\" id=\"third\">Beautiful Soup! Who cares for fish,<br />\\n  Game or any other dish?<br />\\n  Who would not give all else for two<br />\\n  Pennyworth only of Beautiful Soup?<br />\\n  Pennyworth only of beautiful Soup?<br /></p>\\n\\n  <p class=\"chorus\" id=\"fourth\">Beau--ootiful Soo--oop!<br />\\n  Beau--ootiful Soo--oop!<br />\\n  Soo--oop of the e--e--evening,<br />\\n  Beautiful, beauti--FUL SOUP!<br /></p>\\n</body>\\n</html>\\n'"
      ]
     },
     "execution_count": 80,
     "metadata": {},
     "output_type": "execute_result"
    }
   ],
   "source": [
    "page.content"
   ]
  },
  {
   "cell_type": "code",
   "execution_count": null,
   "metadata": {},
   "outputs": [],
   "source": []
  },
  {
   "cell_type": "markdown",
   "metadata": {},
   "source": [
    "## Parsing a page with BeautifulSoup"
   ]
  },
  {
   "cell_type": "code",
   "execution_count": 81,
   "metadata": {},
   "outputs": [],
   "source": [
    "from bs4 import BeautifulSoup\n",
    "soup = BeautifulSoup(page.content, 'html.parser')"
   ]
  },
  {
   "cell_type": "code",
   "execution_count": 82,
   "metadata": {},
   "outputs": [
    {
     "name": "stdout",
     "output_type": "stream",
     "text": [
      "<!DOCTYPE html PUBLIC \"-//W3C//DTD XHTML 1.0 Strict//EN\"\n",
      "    \"http://www.w3.org/TR/xhtml1/DTD/xhtml1-strict.dtd\">\n",
      "<html lang=\"en-US\" xml:lang=\"en-US\" xmlns=\"http://www.w3.org/1999/xhtml\">\n",
      " <head>\n",
      "  <meta content=\"text/html; charset=utf-8\" http-equiv=\"content-type\"/>\n",
      "  <title>\n",
      "   Turtle Soup\n",
      "  </title>\n",
      " </head>\n",
      " <body>\n",
      "  <h1>\n",
      "   Turtle Soup\n",
      "  </h1>\n",
      "  <p class=\"verse\" id=\"first\">\n",
      "   Beautiful Soup, so rich and green,\n",
      "   <br/>\n",
      "   Waiting in a hot tureen!\n",
      "   <br/>\n",
      "   Who for such dainties would not stoop?\n",
      "   <br/>\n",
      "   Soup of the evening, beautiful Soup!\n",
      "   <br/>\n",
      "   Soup of the evening, beautiful Soup!\n",
      "   <br/>\n",
      "  </p>\n",
      "  <p class=\"chorus\" id=\"second\">\n",
      "   Beau--ootiful Soo--oop!\n",
      "   <br/>\n",
      "   Beau--ootiful Soo--oop!\n",
      "   <br/>\n",
      "   Soo--oop of the e--e--evening,\n",
      "   <br/>\n",
      "   Beautiful, beautiful Soup!\n",
      "   <br/>\n",
      "  </p>\n",
      "  <p class=\"verse\" id=\"third\">\n",
      "   Beautiful Soup! Who cares for fish,\n",
      "   <br/>\n",
      "   Game or any other dish?\n",
      "   <br/>\n",
      "   Who would not give all else for two\n",
      "   <br/>\n",
      "   Pennyworth only of Beautiful Soup?\n",
      "   <br/>\n",
      "   Pennyworth only of beautiful Soup?\n",
      "   <br/>\n",
      "  </p>\n",
      "  <p class=\"chorus\" id=\"fourth\">\n",
      "   Beau--ootiful Soo--oop!\n",
      "   <br/>\n",
      "   Beau--ootiful Soo--oop!\n",
      "   <br/>\n",
      "   Soo--oop of the e--e--evening,\n",
      "   <br/>\n",
      "   Beautiful, beauti--FUL SOUP!\n",
      "   <br/>\n",
      "  </p>\n",
      " </body>\n",
      "</html>\n",
      "\n"
     ]
    }
   ],
   "source": [
    "print(soup.prettify())"
   ]
  },
  {
   "cell_type": "code",
   "execution_count": 83,
   "metadata": {},
   "outputs": [
    {
     "data": {
      "text/plain": [
       "['html PUBLIC \"-//W3C//DTD XHTML 1.0 Strict//EN\"\\n    \"http://www.w3.org/TR/xhtml1/DTD/xhtml1-strict.dtd\"',\n",
       " '\\n',\n",
       " <html lang=\"en-US\" xml:lang=\"en-US\" xmlns=\"http://www.w3.org/1999/xhtml\">\n",
       " <head>\n",
       " <meta content=\"text/html; charset=utf-8\" http-equiv=\"content-type\"/>\n",
       " <title>Turtle Soup</title>\n",
       " </head>\n",
       " <body>\n",
       " <h1>Turtle Soup</h1>\n",
       " <p class=\"verse\" id=\"first\">Beautiful Soup, so rich and green,<br/>\n",
       "   Waiting in a hot tureen!<br/>\n",
       "   Who for such dainties would not stoop?<br/>\n",
       "   Soup of the evening, beautiful Soup!<br/>\n",
       "   Soup of the evening, beautiful Soup!<br/></p>\n",
       " <p class=\"chorus\" id=\"second\">Beau--ootiful Soo--oop!<br/>\n",
       "   Beau--ootiful Soo--oop!<br/>\n",
       "   Soo--oop of the e--e--evening,<br/>\n",
       "   Beautiful, beautiful Soup!<br/></p>\n",
       " <p class=\"verse\" id=\"third\">Beautiful Soup! Who cares for fish,<br/>\n",
       "   Game or any other dish?<br/>\n",
       "   Who would not give all else for two<br/>\n",
       "   Pennyworth only of Beautiful Soup?<br/>\n",
       "   Pennyworth only of beautiful Soup?<br/></p>\n",
       " <p class=\"chorus\" id=\"fourth\">Beau--ootiful Soo--oop!<br/>\n",
       "   Beau--ootiful Soo--oop!<br/>\n",
       "   Soo--oop of the e--e--evening,<br/>\n",
       "   Beautiful, beauti--FUL SOUP!<br/></p>\n",
       " </body>\n",
       " </html>,\n",
       " '\\n']"
      ]
     },
     "execution_count": 83,
     "metadata": {},
     "output_type": "execute_result"
    }
   ],
   "source": [
    "list(soup.children)"
   ]
  },
  {
   "cell_type": "code",
   "execution_count": 84,
   "metadata": {},
   "outputs": [
    {
     "data": {
      "text/plain": [
       "[bs4.element.Doctype,\n",
       " bs4.element.NavigableString,\n",
       " bs4.element.Tag,\n",
       " bs4.element.NavigableString]"
      ]
     },
     "execution_count": 84,
     "metadata": {},
     "output_type": "execute_result"
    }
   ],
   "source": [
    "[type(item) for item in list(soup.children)]"
   ]
  },
  {
   "cell_type": "code",
   "execution_count": 85,
   "metadata": {},
   "outputs": [],
   "source": [
    "html = list(soup.children)[2]"
   ]
  },
  {
   "cell_type": "code",
   "execution_count": 86,
   "metadata": {},
   "outputs": [
    {
     "data": {
      "text/plain": [
       "['\\n', <head>\n",
       " <meta content=\"text/html; charset=utf-8\" http-equiv=\"content-type\"/>\n",
       " <title>Turtle Soup</title>\n",
       " </head>, '\\n', <body>\n",
       " <h1>Turtle Soup</h1>\n",
       " <p class=\"verse\" id=\"first\">Beautiful Soup, so rich and green,<br/>\n",
       "   Waiting in a hot tureen!<br/>\n",
       "   Who for such dainties would not stoop?<br/>\n",
       "   Soup of the evening, beautiful Soup!<br/>\n",
       "   Soup of the evening, beautiful Soup!<br/></p>\n",
       " <p class=\"chorus\" id=\"second\">Beau--ootiful Soo--oop!<br/>\n",
       "   Beau--ootiful Soo--oop!<br/>\n",
       "   Soo--oop of the e--e--evening,<br/>\n",
       "   Beautiful, beautiful Soup!<br/></p>\n",
       " <p class=\"verse\" id=\"third\">Beautiful Soup! Who cares for fish,<br/>\n",
       "   Game or any other dish?<br/>\n",
       "   Who would not give all else for two<br/>\n",
       "   Pennyworth only of Beautiful Soup?<br/>\n",
       "   Pennyworth only of beautiful Soup?<br/></p>\n",
       " <p class=\"chorus\" id=\"fourth\">Beau--ootiful Soo--oop!<br/>\n",
       "   Beau--ootiful Soo--oop!<br/>\n",
       "   Soo--oop of the e--e--evening,<br/>\n",
       "   Beautiful, beauti--FUL SOUP!<br/></p>\n",
       " </body>, '\\n']"
      ]
     },
     "execution_count": 86,
     "metadata": {},
     "output_type": "execute_result"
    }
   ],
   "source": [
    "list(html.children)"
   ]
  },
  {
   "cell_type": "code",
   "execution_count": 87,
   "metadata": {},
   "outputs": [],
   "source": [
    "body = list(html.children)[3]\n"
   ]
  },
  {
   "cell_type": "code",
   "execution_count": 88,
   "metadata": {},
   "outputs": [
    {
     "data": {
      "text/plain": [
       "['\\n',\n",
       " <h1>Turtle Soup</h1>,\n",
       " '\\n',\n",
       " <p class=\"verse\" id=\"first\">Beautiful Soup, so rich and green,<br/>\n",
       "   Waiting in a hot tureen!<br/>\n",
       "   Who for such dainties would not stoop?<br/>\n",
       "   Soup of the evening, beautiful Soup!<br/>\n",
       "   Soup of the evening, beautiful Soup!<br/></p>,\n",
       " '\\n',\n",
       " <p class=\"chorus\" id=\"second\">Beau--ootiful Soo--oop!<br/>\n",
       "   Beau--ootiful Soo--oop!<br/>\n",
       "   Soo--oop of the e--e--evening,<br/>\n",
       "   Beautiful, beautiful Soup!<br/></p>,\n",
       " '\\n',\n",
       " <p class=\"verse\" id=\"third\">Beautiful Soup! Who cares for fish,<br/>\n",
       "   Game or any other dish?<br/>\n",
       "   Who would not give all else for two<br/>\n",
       "   Pennyworth only of Beautiful Soup?<br/>\n",
       "   Pennyworth only of beautiful Soup?<br/></p>,\n",
       " '\\n',\n",
       " <p class=\"chorus\" id=\"fourth\">Beau--ootiful Soo--oop!<br/>\n",
       "   Beau--ootiful Soo--oop!<br/>\n",
       "   Soo--oop of the e--e--evening,<br/>\n",
       "   Beautiful, beauti--FUL SOUP!<br/></p>,\n",
       " '\\n']"
      ]
     },
     "execution_count": 88,
     "metadata": {},
     "output_type": "execute_result"
    }
   ],
   "source": [
    "list(body.children)\n"
   ]
  },
  {
   "cell_type": "code",
   "execution_count": 89,
   "metadata": {},
   "outputs": [],
   "source": [
    "p = list(body.children)[1]\n"
   ]
  },
  {
   "cell_type": "code",
   "execution_count": 90,
   "metadata": {},
   "outputs": [
    {
     "data": {
      "text/plain": [
       "'Turtle Soup'"
      ]
     },
     "execution_count": 90,
     "metadata": {},
     "output_type": "execute_result"
    }
   ],
   "source": [
    "p.get_text()\n"
   ]
  },
  {
   "cell_type": "code",
   "execution_count": null,
   "metadata": {},
   "outputs": [],
   "source": []
  },
  {
   "cell_type": "markdown",
   "metadata": {},
   "source": [
    "# example 4"
   ]
  },
  {
   "cell_type": "markdown",
   "metadata": {},
   "source": [
    "## Finding all instances of a tag at once"
   ]
  },
  {
   "cell_type": "code",
   "execution_count": 101,
   "metadata": {},
   "outputs": [],
   "source": [
    "import requests\n",
    "from bs4 import BeautifulSoup\n",
    "page = requests.get(\"https://warstek.com/2018/02/23/benzoat/\")\n",
    "\n",
    "soup = BeautifulSoup(page.content, 'html.parser')"
   ]
  },
  {
   "cell_type": "code",
   "execution_count": 102,
   "metadata": {},
   "outputs": [
    {
     "data": {
      "text/plain": [
       "'Pelopor Sains Populer Indonesia'"
      ]
     },
     "execution_count": 102,
     "metadata": {},
     "output_type": "execute_result"
    }
   ],
   "source": [
    "soup.find_all('p')[0].get_text()"
   ]
  },
  {
   "cell_type": "code",
   "execution_count": 103,
   "metadata": {},
   "outputs": [
    {
     "data": {
      "text/plain": [
       "[<p id=\"site-description\">Pelopor Sains Populer Indonesia</p>,\n",
       " <p id=\"breadcrumbs\"><span xmlns:v=\"http://rdf.data-vocabulary.org/#\"><span typeof=\"v:Breadcrumb\"><a href=\"https://warstek.com/\" property=\"v:title\" rel=\"v:url\">Home</a> » <span rel=\"v:child\" typeof=\"v:Breadcrumb\"><a href=\"https://warstek.com/category/mom/\" property=\"v:title\" rel=\"v:url\">Warstek Mom</a></span></span></span></p>,\n",
       " <p style=\"text-align: justify;\"><span style=\"font-family: georgia, palatino, serif;\">Penggunaan bahan kimia sebagai bahan tambahan pada makanan (<em>food additive</em>) saat ini sering ditemui pada makanan dan minuman. Salah satu bahan tambahan pada makanan adalah pengawet bahan kimia yang berfungsi  untuk memperlambat kerusakan makanan, baik yang disebabkan mikroba pembusuk, bakteri, ragi maupun jamur dengan cara menghambat, mencegah, menghentikan proses pembusukan dan fermentasi dari bahan makanan (Winarno, F. G. dan S. L. Jenie. 1983).</span></p>,\n",
       " <p style=\"text-align: justify;\"><span style=\"font-family: georgia, palatino, serif;\">Salah satu bahan pengawet yang banyak digunakan adalah asam benzoat. Asam benzoat lebih banyak digunakan dalam bentuk garamnya karena kelarutannya lebih baik daripada bentuk asamnya. Bentuk garam dari asam benzoat yang banyak digunakan adalah natrium benzoat. Benzoat dan turunannya dapat menghancurkan sel-sel mikroba. Natrium benzoat bekerja efektif pada pH 2,5-4 sehingga banyak digunakan pada makanan atau minuman yang bersifat asam (Winarno, 1980). Benzoat sering digunakan untuk mengawetkan berbagai pangan dan minuman seperti sari buah minuman ringan, saus tomat, saus sambal, selai, jeli, manisan, kecap dan lain-lain. </span></p>,\n",
       " <p style=\"text-align: justify;\"><img alt=\"\" class=\"wp-image-9775 aligncenter\" data-recalc-dims=\"1\" height=\"158\" src=\"https://i0.wp.com/warstek.com/wp-content/uploads/2018/02/asambenzoat-1.png?resize=213%2C158&amp;ssl=1\" width=\"213\"/></p>,\n",
       " <p style=\"text-align: justify;\">Asam benzoat/ asam benzene karboksilat/ asam phenil karboksilat (C7H6O2 atau C6H5COOH) merupakan suatu senyawa kimia yang umum digunakan sebagai bahan pengawet yang dianggap GRAS oleh FDA, dan secara kimia dapat dihasilkan melalui oksidasi fase cair dari toluena (Srour, 1989; WHO, 2000). Asam benzoat memiliki bentuk serbuk kristal padat, tidak berwarna, tidak berbau, sedikit terlarut didalam air, tetapi larut dalam etanol dan sangat mudah larut dalam benzena dan aseton. Asam benzoat, dalam bahan pangan umum digunakan sebagai bahan pengawet. Namun diluar itu, juga dapat dimanfaatkan sebagai penghambat korosi (WHO, 2000).</p>,\n",
       " <p style=\"text-align: justify;\">Pengolahan (pengawetan) dilakukan untuk memperpanjang umur simpan (lamanya suatu produk dapat disimpan tanpa mengalami kerusakan) produk pangan. Proses pengolahan apa yang akan dilakukan, tergantung pada berapa lama umur simpan produk yang diinginkan, dan berapa banyak perubahan mutu produk yang dapat diterima. Berdasarkan target waktu pengawetan, maka pengawetan dapat bersifat jangka pendek atau bersifat jangka panjang.</p>,\n",
       " <p><img alt=\"\" class=\"wp-image-9422 aligncenter\" data-recalc-dims=\"1\" height=\"242\" sizes=\"(max-width: 407px) 100vw, 407px\" src=\"https://i2.wp.com/warstek.com/wp-content/uploads/2018/02/maxresdefault.jpg?resize=407%2C242&amp;ssl=1\" srcset=\"https://i2.wp.com/warstek.com/wp-content/uploads/2018/02/maxresdefault.jpg?resize=300%2C177&amp;ssl=1 300w, https://i2.wp.com/warstek.com/wp-content/uploads/2018/02/maxresdefault.jpg?resize=768%2C454&amp;ssl=1 768w, https://i2.wp.com/warstek.com/wp-content/uploads/2018/02/maxresdefault.jpg?w=1600&amp;ssl=1 1600w\" width=\"407\"/></p>,\n",
       " <p style=\"text-align: justify;\"><span style=\"font-family: georgia, palatino, serif;\">Menurut PerMenKes RI No.722/MenKes/Per/IX/88 batas maksimum penggunaan asam benzoat dalam minuman ringan adalah 600 mg/kg. Dalam tubuh terdapat mekanisme detoksifikasi terhadap asam benzoat, sehingga tidak terjadi penumpukan asam benzoat. Asam benzoat akan bereaksi dengan glisin menjadi asam hipurat yang akan dibuang oleh tubuh. Asam benzoat secara alami terdapat dalam rempah-rempah seperti cengkeh dan kayu manis. (Winarno, 1992). <span style=\"color: #ff0000;\"><br/>\n",
       " </span></span></p>,\n",
       " <p style=\"text-align: justify;\">Efek asam benzoat dan garamnya (Ca, K, dan Na benzoat) terhadap kesehatan. Metabolisme ini meliputi dua tahap reaksi, pertama dikatalisis oleh enzim <em>syntetase</em> dan pada reaksi kedua dikatalisis oleh enzim <em>acytransferase.</em> Asam hipurat yang dibentuk dan diproses dari dalam hati, kemudian diekskresikan melalui urin. Jadi, dalam tubuh tidak terjadi penumpukan asam benzoat, sisa asam benzoat yang tidak diekskresi sebagai asam hipurat dihilangkan toksisitasnya berkonjugasi dengan asam glukoronat dan diekskresi melalui urin. Pada penderita asma dan orang yang menderita urticaria sangat sensitif terhadap asam benzoat, jika dikonsumsi dalam jumlah besar akan mengiritasi lambung.</p>,\n",
       " <p style=\"text-align: justify;\"><span style=\"font-family: georgia, palatino, serif;\">Mekanisme kerja asam benzoat atau garamnya berdasarkan pada permeabilitas membran sel mikroba terhadap molekul-molekul asam yang tidak terdisosiasi. Isi sel mikroba mempunyai pH yang selalu netral. Bila pH sitoplasma mikroba menjadi asam atau basa, maka akan terjadi gangguan pada organ-organ sel sehingga metabolisme terhambat dan akhirnya sel mati. Membran sel mikroba hanya permeabel terhadap molekul asam yang tidak terdisosiasi, maka untuk mendapatkan efektivitas yang tinggi sebaiknya asam-asam tersebut digunakan dalam lingkungan asam. Hal ini juga disebabkan pada pH netral dan basa, asam-asam organik terurai menjadi ion-ionnya (Winarno, F.G. dan B. S. Laksmi, 1974).</span></p>,\n",
       " <p style=\"text-align: justify;\"><span style=\"font-family: georgia, palatino, serif;\">Asam benzoat dan garamnya mempunyai aktivitas antimikroorganisme tergantung pada pH dan substrat, karena pH substrat sangat menentukan jumlah asam yang terdisosiasi. Pada pH 2,19 asam yang tidak terdisosiasi adalah  99%, pada pH 4,2 asam yang tidak terdisosiasi adalah 50%. Natrium benzoat sebagai antimikroorganisme berperan dalam mengganggu permeabilitas membran sel. Asam benzoat mempunyai pH optimal untuk menghambat mikroorganisme yaitu pH 2,5-4,0. Asam benzoat dan natrium benzoat digunakan untuk menghambat pertumbuhan khamir dan bakteri tetapi kurang efektif untuk kapang (Afrianti, LH. 2010).</span></p>,\n",
       " <p style=\"text-align: justify;\">\n",
       " <div style=\"clear: both;\"></div><div class=\"pagination clearfix\">Halaman Selanjutnya: <span>1</span> <a href=\"https://warstek.com/2018/02/23/benzoat/2/\"><span>2</span></a></div></p>,\n",
       " <p style=\"text-align: center;\"><span style=\"font-size: 16pt; color: #ffffff; font-family:'trebuchet ms', geneva, sans-serif;\">Tombol ajaib ini akan mengirimkan artikel Warung Sains Teknologi ke beranda Facebook Anda:</span></p>,\n",
       " <p class=\"author-description\">Mahasiswa | S1 Teknologi Pangan Universitas Pasundan Bandung | Pecinta buku | dinailmikamila3@gmail.com</p>,\n",
       " <p>Masukkan alamat email Anda untuk berlangganan Artikel Warstek dan menerima pemberitahuan tulisan-tulisan baru melalui email.</p>,\n",
       " <p id=\"subscribe-email\">\n",
       " <label for=\"subscribe-field-blog_subscription-2\" id=\"jetpack-subscribe-label\">\n",
       " Alamat Email\t\t\t\t\t\t</label>\n",
       " <input class=\"required\" id=\"subscribe-field-blog_subscription-2\" name=\"email\" placeholder=\"Alamat Email\" required=\"required\" type=\"email\" value=\"\"/>\n",
       " </p>,\n",
       " <p id=\"subscribe-submit\">\n",
       " <input name=\"action\" type=\"hidden\" value=\"subscribe\"/>\n",
       " <input name=\"source\" type=\"hidden\" value=\"http://warstek.com/\"/>\n",
       " <input name=\"sub-type\" type=\"hidden\" value=\"widget\"/>\n",
       " <input name=\"redirect_fragment\" type=\"hidden\" value=\"blog_subscription-2\"/>\n",
       " <input name=\"jetpack_subscriptions_widget\" type=\"submit\" value=\"Berlangganan\"/>\n",
       " </p>,\n",
       " <p>SpaceX merupakan perusahaan swasta yang fokus pada teknologi roket untuk misi luar angkasa. Dipimpin oleh Elon Musk dan berpusat di Hawthorne</p>,\n",
       " <p>Reaksi yang terjadi di matahari dan bintang-bintang di alam semesta adalah reaksi fusi. Reaksi fusi merupakan penggabungan inti atom ringan</p>,\n",
       " <p><img alt=\"\" data-recalc-dims=\"1\" src=\"https://i0.wp.com/warstek.com/wp-content/uploads/2017/12/footer-logo-copy-min.png?w=800\"/><br/> <span style=\"color: #ffffff; font-size: 14pt;\"><strong><em>UP TO DATE</em> | TERPERCAYA | SERU</strong></span></p>,\n",
       " <p><span style=\"color: #ffffff;\">Warung Sains Teknologi (Warstek) adalah media SAINS POPULER yang dibuat untuk seluruh masyarakat Indonesia baik kalangan akademisi, masyarakat sipil, atau industri.</span></p>]"
      ]
     },
     "execution_count": 103,
     "metadata": {},
     "output_type": "execute_result"
    }
   ],
   "source": [
    "soup.find_all('p')"
   ]
  },
  {
   "cell_type": "code",
   "execution_count": 104,
   "metadata": {},
   "outputs": [
    {
     "name": "stdout",
     "output_type": "stream",
     "text": [
      "Pelopor Sains Populer Indonesia\n",
      "Home » Warstek Mom\n",
      "Penggunaan bahan kimia sebagai bahan tambahan pada makanan (food additive) saat ini sering ditemui pada makanan dan minuman. Salah satu bahan tambahan pada makanan adalah pengawet bahan kimia yang berfungsi  untuk memperlambat kerusakan makanan, baik yang disebabkan mikroba pembusuk, bakteri, ragi maupun jamur dengan cara menghambat, mencegah, menghentikan proses pembusukan dan fermentasi dari bahan makanan (Winarno, F. G. dan S. L. Jenie. 1983).\n",
      "Salah satu bahan pengawet yang banyak digunakan adalah asam benzoat. Asam benzoat lebih banyak digunakan dalam bentuk garamnya karena kelarutannya lebih baik daripada bentuk asamnya. Bentuk garam dari asam benzoat yang banyak digunakan adalah natrium benzoat. Benzoat dan turunannya dapat menghancurkan sel-sel mikroba. Natrium benzoat bekerja efektif pada pH 2,5-4 sehingga banyak digunakan pada makanan atau minuman yang bersifat asam (Winarno, 1980). Benzoat sering digunakan untuk mengawetkan berbagai pangan dan minuman seperti sari buah minuman ringan, saus tomat, saus sambal, selai, jeli, manisan, kecap dan lain-lain. \n",
      "\n",
      "Asam benzoat/ asam benzene karboksilat/ asam phenil karboksilat (C7H6O2 atau C6H5COOH) merupakan suatu senyawa kimia yang umum digunakan sebagai bahan pengawet yang dianggap GRAS oleh FDA, dan secara kimia dapat dihasilkan melalui oksidasi fase cair dari toluena (Srour, 1989; WHO, 2000). Asam benzoat memiliki bentuk serbuk kristal padat, tidak berwarna, tidak berbau, sedikit terlarut didalam air, tetapi larut dalam etanol dan sangat mudah larut dalam benzena dan aseton. Asam benzoat, dalam bahan pangan umum digunakan sebagai bahan pengawet. Namun diluar itu, juga dapat dimanfaatkan sebagai penghambat korosi (WHO, 2000).\n",
      "Pengolahan (pengawetan) dilakukan untuk memperpanjang umur simpan (lamanya suatu produk dapat disimpan tanpa mengalami kerusakan) produk pangan. Proses pengolahan apa yang akan dilakukan, tergantung pada berapa lama umur simpan produk yang diinginkan, dan berapa banyak perubahan mutu produk yang dapat diterima. Berdasarkan target waktu pengawetan, maka pengawetan dapat bersifat jangka pendek atau bersifat jangka panjang.\n",
      "\n",
      "Menurut PerMenKes RI No.722/MenKes/Per/IX/88 batas maksimum penggunaan asam benzoat dalam minuman ringan adalah 600 mg/kg. Dalam tubuh terdapat mekanisme detoksifikasi terhadap asam benzoat, sehingga tidak terjadi penumpukan asam benzoat. Asam benzoat akan bereaksi dengan glisin menjadi asam hipurat yang akan dibuang oleh tubuh. Asam benzoat secara alami terdapat dalam rempah-rempah seperti cengkeh dan kayu manis. (Winarno, 1992). \n",
      "\n",
      "Efek asam benzoat dan garamnya (Ca, K, dan Na benzoat) terhadap kesehatan. Metabolisme ini meliputi dua tahap reaksi, pertama dikatalisis oleh enzim syntetase dan pada reaksi kedua dikatalisis oleh enzim acytransferase. Asam hipurat yang dibentuk dan diproses dari dalam hati, kemudian diekskresikan melalui urin. Jadi, dalam tubuh tidak terjadi penumpukan asam benzoat, sisa asam benzoat yang tidak diekskresi sebagai asam hipurat dihilangkan toksisitasnya berkonjugasi dengan asam glukoronat dan diekskresi melalui urin. Pada penderita asma dan orang yang menderita urticaria sangat sensitif terhadap asam benzoat, jika dikonsumsi dalam jumlah besar akan mengiritasi lambung.\n",
      "Mekanisme kerja asam benzoat atau garamnya berdasarkan pada permeabilitas membran sel mikroba terhadap molekul-molekul asam yang tidak terdisosiasi. Isi sel mikroba mempunyai pH yang selalu netral. Bila pH sitoplasma mikroba menjadi asam atau basa, maka akan terjadi gangguan pada organ-organ sel sehingga metabolisme terhambat dan akhirnya sel mati. Membran sel mikroba hanya permeabel terhadap molekul asam yang tidak terdisosiasi, maka untuk mendapatkan efektivitas yang tinggi sebaiknya asam-asam tersebut digunakan dalam lingkungan asam. Hal ini juga disebabkan pada pH netral dan basa, asam-asam organik terurai menjadi ion-ionnya (Winarno, F.G. dan B. S. Laksmi, 1974).\n",
      "Asam benzoat dan garamnya mempunyai aktivitas antimikroorganisme tergantung pada pH dan substrat, karena pH substrat sangat menentukan jumlah asam yang terdisosiasi. Pada pH 2,19 asam yang tidak terdisosiasi adalah  99%, pada pH 4,2 asam yang tidak terdisosiasi adalah 50%. Natrium benzoat sebagai antimikroorganisme berperan dalam mengganggu permeabilitas membran sel. Asam benzoat mempunyai pH optimal untuk menghambat mikroorganisme yaitu pH 2,5-4,0. Asam benzoat dan natrium benzoat digunakan untuk menghambat pertumbuhan khamir dan bakteri tetapi kurang efektif untuk kapang (Afrianti, LH. 2010).\n",
      "\n",
      "Halaman Selanjutnya: 1 2\n",
      "Tombol ajaib ini akan mengirimkan artikel Warung Sains Teknologi ke beranda Facebook Anda:\n",
      "Mahasiswa | S1 Teknologi Pangan Universitas Pasundan Bandung | Pecinta buku | dinailmikamila3@gmail.com\n",
      "Masukkan alamat email Anda untuk berlangganan Artikel Warstek dan menerima pemberitahuan tulisan-tulisan baru melalui email.\n",
      "\n",
      "\n",
      "Alamat Email\t\t\t\t\t\t\n",
      "\n",
      "\n",
      "\n",
      "\n",
      "\n",
      "\n",
      "\n",
      "\n",
      "\n",
      "SpaceX merupakan perusahaan swasta yang fokus pada teknologi roket untuk misi luar angkasa. Dipimpin oleh Elon Musk dan berpusat di Hawthorne\n",
      "Reaksi yang terjadi di matahari dan bintang-bintang di alam semesta adalah reaksi fusi. Reaksi fusi merupakan penggabungan inti atom ringan\n",
      " UP TO DATE | TERPERCAYA | SERU\n",
      "Warung Sains Teknologi (Warstek) adalah media SAINS POPULER yang dibuat untuk seluruh masyarakat Indonesia baik kalangan akademisi, masyarakat sipil, atau industri.\n"
     ]
    }
   ],
   "source": [
    "for content_data in soup.find_all('p'):\n",
    "    print(content_data.get_text())"
   ]
  },
  {
   "cell_type": "code",
   "execution_count": null,
   "metadata": {},
   "outputs": [],
   "source": []
  },
  {
   "cell_type": "code",
   "execution_count": null,
   "metadata": {},
   "outputs": [],
   "source": []
  },
  {
   "cell_type": "code",
   "execution_count": null,
   "metadata": {},
   "outputs": [],
   "source": []
  }
 ],
 "metadata": {
  "kernelspec": {
   "display_name": "Python 3",
   "language": "python",
   "name": "python3"
  },
  "language_info": {
   "codemirror_mode": {
    "name": "ipython",
    "version": 3
   },
   "file_extension": ".py",
   "mimetype": "text/x-python",
   "name": "python",
   "nbconvert_exporter": "python",
   "pygments_lexer": "ipython3",
   "version": "3.6.0"
  }
 },
 "nbformat": 4,
 "nbformat_minor": 2
}
