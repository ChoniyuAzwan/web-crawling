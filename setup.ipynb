{
 "cells": [
  {
   "cell_type": "markdown",
   "metadata": {},
   "source": [
    "# get link"
   ]
  },
  {
   "cell_type": "code",
   "execution_count": 54,
   "metadata": {},
   "outputs": [
    {
     "name": "stdout",
     "output_type": "stream",
     "text": [
      "['https://warstek.com/2018/03/03/ijen/', 'https://warstek.com/2018/03/01/uv/', 'https://warstek.com/2018/02/27/arli3/', 'https://warstek.com/2018/02/26/thoriumnuklir/', 'https://warstek.com/2018/02/25/arli2/', 'http://fb.com/warstek', 'https://twitter.com/KimiaWarstek', 'https://plus.google.com/u/0/115221955203896074345', 'http://instagram.com/warungsaintek', 'https://www.youtube.com/channel/UCl0CIn_K6ByhkKdmWEC_lNw', 'https://warstek.com/', 'https://warstek.com/', 'https://drive.google.com/open?id=1qZg4QiyTcNovvj55HiIbJkG8wdBJsSmW', 'https://warstek.com/', '/', 'https://warstek.com/category/artikel/', 'https://warstek.com/category/umum/', 'https://warstek.com/category/sains-alam/', 'https://warstek.com/category/sains-sosial/', 'https://warstek.com/category/teknologi/', 'https://warstek.com/category/profil/', 'https://warstek.com/category/favorit/', 'https://warstek.com/category/pilihan-editor/', 'https://warstek.com/kontributor/', '#', 'https://warstek.com/siringmakar/', 'https://warstek.com/category/komik/', 'https://warstek.com/majalah-warstek/', 'https://warstek.com/category/bank-soal/', 'https://warstek.com/warstek-edu/', 'https://warstek.com/beasiswapekerjaan/', 'https://warstek.com/tv/', 'https://warstek.com/beasiswapekerjaan/', 'http://www.kitabisa.com/warstek', 'https://warstek.com/about/', 'https://warstek.com/kontak/', 'http://warstek.com/#', 'http://warstek.com/login', 'http://warstek.com/daftar', 'https://warstek.com/2018/03/03/ijen/', 'https://warstek.com/category/sains-alam/', 'https://warstek.com/category/remaja/', 'https://warstek.com/2018/03/03/ijen/', 'https://warstek.com/2018/03/03/ijen/', 'https://warstek.com/author/fauziyusup/', 'https://warstek.com/2018/03/03/ijen/#respond', 'https://warstek.com/2018/03/03/ijen/', 'https://warstek.com/2018/03/01/uv/', 'https://warstek.com/category/sains-alam/', 'https://warstek.com/category/remaja/', 'https://warstek.com/2018/03/01/uv/', 'https://warstek.com/2018/03/01/uv/', 'https://warstek.com/author/vani_sugiyono/', 'https://warstek.com/2018/03/01/uv/#respond', 'https://warstek.com/2018/03/01/uv/', 'https://warstek.com/2018/02/24/wormhole/', 'https://warstek.com/category/pilihan-editor/', 'https://warstek.com/category/sains-alam/', 'https://warstek.com/category/mahasiswa/', 'https://warstek.com/2018/02/24/wormhole/', 'https://warstek.com/2018/02/24/wormhole/', 'https://warstek.com/author/wahyunorrudin1/', 'https://warstek.com/2018/02/24/wormhole/#respond', 'https://warstek.com/2018/02/24/wormhole/', 'https://warstek.com/2018/02/23/benzoat/', 'https://warstek.com/category/sains-alam/', 'https://warstek.com/category/mom/', 'https://warstek.com/2018/02/23/benzoat/', 'https://warstek.com/2018/02/23/benzoat/', 'https://warstek.com/author/ilmikamila/', 'https://warstek.com/2018/02/23/benzoat/#respond', 'https://warstek.com/2018/02/23/benzoat/', 'https://warstek.com/2018/02/22/kloningprimata/', 'https://warstek.com/category/sains-alam/', 'https://warstek.com/category/mahasiswa/', 'https://warstek.com/2018/02/22/kloningprimata/', 'https://warstek.com/2018/02/22/kloningprimata/', 'https://warstek.com/author/diantiwlndr/', 'https://warstek.com/2018/02/22/kloningprimata/#respond', 'https://warstek.com/2018/02/22/kloningprimata/', 'https://warstek.com/2018/02/15/ewaste/', 'https://warstek.com/category/sains-alam/', 'https://warstek.com/category/remaja/', 'https://warstek.com/2018/02/15/ewaste/', 'https://warstek.com/2018/02/15/ewaste/', 'https://warstek.com/author/hana75/', 'https://warstek.com/2018/02/15/ewaste/#respond', 'https://warstek.com/2018/02/15/ewaste/', 'https://warstek.com/2018/02/15/kandunganbabi/', 'https://warstek.com/category/sains-alam/', 'https://warstek.com/2018/02/15/kandunganbabi/', 'https://warstek.com/2018/02/15/kandunganbabi/', 'https://warstek.com/author/zhabdurrahman/', 'https://warstek.com/2018/02/15/kandunganbabi/#respond', 'https://warstek.com/2018/02/15/kandunganbabi/', 'https://warstek.com/category/sains-alam/page/2/', 'amp/', '/', 'https://warstek.com/2018/02/08/falconheavy/', 'https://warstek.com/category/favorit/', 'https://warstek.com/category/teknologi/', 'https://warstek.com/2018/02/08/falconheavy/', 'https://warstek.com/2018/02/08/falconheavy/', 'https://warstek.com/author/wayand/', 'https://warstek.com/2018/02/08/falconheavy/#respond', 'https://warstek.com/2018/02/05/kainsususapi/', 'https://warstek.com/category/generalid/', 'https://warstek.com/category/favorit/', 'https://warstek.com/category/sains-alam/', 'https://warstek.com/2018/02/05/kainsususapi/', 'https://warstek.com/2018/02/05/kainsususapi/', 'https://warstek.com/author/hana75/', 'https://warstek.com/2018/02/05/kainsususapi/#comments', 'https://warstek.com/2018/01/24/hywind/', 'https://warstek.com/category/favorit/', 'https://warstek.com/category/teknologi/', 'https://warstek.com/2018/01/24/hywind/', 'https://warstek.com/2018/01/24/hywind/', 'https://warstek.com/author/fauziyusup/', 'https://warstek.com/2018/01/24/hywind/#comments', 'https://warstek.com/2018/01/07/narkoba/', 'https://warstek.com/category/generalid/', 'https://warstek.com/category/favorit/', 'https://warstek.com/2018/01/07/narkoba/', 'https://warstek.com/2018/01/07/narkoba/', 'https://warstek.com/author/siddiqinz/', 'https://warstek.com/2018/01/07/narkoba/#respond', 'https://warstek.com/2018/01/07/radiasimandul/', 'https://warstek.com/category/favorit/', 'https://warstek.com/category/sains-alam/', 'https://warstek.com/category/umum/', 'https://warstek.com/2018/01/07/radiasimandul/', 'https://warstek.com/2018/01/07/radiasimandul/', 'https://warstek.com/author/andhikathorium/', 'https://warstek.com/2018/01/07/radiasimandul/#comments', 'https://warstek.com/2018/02/24/wormhole/', 'https://warstek.com/category/pilihan-editor/', 'https://warstek.com/category/sains-alam/', 'https://warstek.com/category/mahasiswa/', 'https://warstek.com/2018/02/24/wormhole/', 'https://warstek.com/2018/02/24/wormhole/', 'https://warstek.com/author/wahyunorrudin1/', 'https://warstek.com/2018/02/24/wormhole/#respond', 'https://warstek.com/2018/02/08/tokamak/', 'https://warstek.com/category/pilihan-editor/', 'https://warstek.com/category/teknologi/', 'https://warstek.com/2018/02/08/tokamak/', 'https://warstek.com/2018/02/08/tokamak/', 'https://warstek.com/author/achmadfajar/', 'https://warstek.com/2018/02/08/tokamak/#respond', 'https://warstek.com/2018/02/07/fotolitografi/', 'https://warstek.com/category/pilihan-editor/', 'https://warstek.com/category/teknologi/', 'https://warstek.com/2018/02/07/fotolitografi/', 'https://warstek.com/2018/02/07/fotolitografi/', 'https://warstek.com/author/siddiqinz/', 'https://warstek.com/2018/02/07/fotolitografi/#comments', 'https://warstek.com/2018/01/30/mitoslimbah/', 'https://warstek.com/category/artikel/', 'https://warstek.com/category/pilihan-editor/', 'https://warstek.com/category/teknologi/', 'https://warstek.com/2018/01/30/mitoslimbah/', 'https://warstek.com/2018/01/30/mitoslimbah/', 'https://warstek.com/author/andhikathorium/', 'https://warstek.com/2018/01/30/mitoslimbah/#comments', 'http://kitabisa.com/warstek', 'http://kitabisa.com/warstek', 'https://twitter.com/KimiaWarstek', 'https://www.fb.com/warstek', 'https://plus.google.com/u/0/115221955203896074345', 'https://instagram.com/warstek_com', 'https://www.youtube.com/channel/UCl0CIn_K6ByhkKdmWEC_lNw', 'http://warstek.com/category/infografis/', 'http://warstek.com/category/komik/', 'https://warstek.com/category/sains-alam/', 'https://warstek.com/category/sains-sosial/', 'https://warstek.com/category/teknologi/', 'https://warstek.com/category/pilihan-editor/', 'https://warstek.com/category/favorit/', 'http://warstek.com/about/amp', 'http://warstek.com/prestasi/amp', 'https://warstek.com/about/amp', 'https://warstek.com/pedoman-media-siber/amp', 'https://warstek.com/disclaimer/amp', 'https://warstek.com/privacypolicy/amp', 'http://fb.com/warstek', 'https://twitter.com/KimiaWarstek', 'https://plus.google.com/u/0/115221955203896074345', 'http://instagram.com/warungsaintek', 'https://www.youtube.com/channel/UCl0CIn_K6ByhkKdmWEC_lNw', 'https://warstek.com/', 'https://themegrill.com/themes/colormag', 'https://wordpress.org', '#masthead', '#']\n"
     ]
    }
   ],
   "source": [
    "from bs4 import BeautifulSoup\n",
    "from urllib.request import Request, urlopen\n",
    "\n",
    "req = Request(\"https://warstek.com/category/sains-alam\")\n",
    "html_page = urlopen(req)\n",
    "\n",
    "soup = BeautifulSoup(html_page, \"lxml\")\n",
    "\n",
    "links = []\n",
    "for result in soup.findAll('a'):\n",
    "    links.append(result.get('href'))\n",
    "\n",
    "print(links)"
   ]
  },
  {
   "cell_type": "code",
   "execution_count": null,
   "metadata": {},
   "outputs": [],
   "source": []
  },
  {
   "cell_type": "markdown",
   "metadata": {},
   "source": [
    "# get web content & write to text file"
   ]
  },
  {
   "cell_type": "code",
   "execution_count": 86,
   "metadata": {},
   "outputs": [
    {
     "name": "stdout",
     "output_type": "stream",
     "text": [
      "total word is 101654\n"
     ]
    }
   ],
   "source": [
    "import requests\n",
    "\n",
    "f = open('datasets.txt','w', encoding=\"utf-8\")\n",
    "for item in links:\n",
    "    f = open('datasets.txt','a', encoding=\"utf-8\")\n",
    "    if 'http' in str(item):\n",
    "        page = requests.get(item)\n",
    "\n",
    "        soup = BeautifulSoup(page.content, 'html.parser')\n",
    "        for contentData in soup.find_all('p'):\n",
    "            f.write(contentData.get_text())\n",
    "            f.write('\\n')\n",
    "        f.write(\"\\n\\n\")\n",
    "    f.close()\n",
    "    \n",
    "    count=0\n",
    "    file = open(\"datasets.txt\",\"r\", encoding=\"utf-8\")\n",
    "    for word in file.read().split():\n",
    "        count +=1\n",
    "    file.close();\n",
    "    \n",
    "    if count > 100000:\n",
    "        break\n",
    "        \n",
    "print('total word is', count)"
   ]
  },
  {
   "cell_type": "code",
   "execution_count": null,
   "metadata": {},
   "outputs": [],
   "source": []
  },
  {
   "cell_type": "code",
   "execution_count": null,
   "metadata": {},
   "outputs": [],
   "source": []
  }
 ],
 "metadata": {
  "kernelspec": {
   "display_name": "Python 3",
   "language": "python",
   "name": "python3"
  },
  "language_info": {
   "codemirror_mode": {
    "name": "ipython",
    "version": 3
   },
   "file_extension": ".py",
   "mimetype": "text/x-python",
   "name": "python",
   "nbconvert_exporter": "python",
   "pygments_lexer": "ipython3",
   "version": "3.6.0"
  }
 },
 "nbformat": 4,
 "nbformat_minor": 2
}
