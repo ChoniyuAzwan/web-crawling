{
 "cells": [
  {
   "cell_type": "code",
   "execution_count": 26,
   "metadata": {},
   "outputs": [
    {
     "name": "stdout",
     "output_type": "stream",
     "text": [
      "http://video.arstechnica.com/\n",
      "http://arstechnica.com/?view=grid\n",
      "http://arstechnica.com/?view=archive\n",
      "http://arstechnica.com/?view=full\n",
      "http://arstechnica.com/?theme=light\n",
      "http://arstechnica.com/?theme=dark\n",
      "http://video.arstechnica.com\n",
      "http://arstechnica.com/?view=mobile\n",
      "http://condenast.com/\n",
      "http://www.condenast.com/privacy-policy\n",
      "http://www.condenast.com/privacy-policy#privacypolicy\n",
      "http://www.condenast.com/privacy-policy#privacypolicy-california\n"
     ]
    }
   ],
   "source": [
    "from bs4 import BeautifulSoup\n",
    "from urllib.request import Request, urlopen\n",
    "import re\n",
    " \n",
    "req = Request(\"http://arstechnica.com\")\n",
    "html_page = urlopen(req)    \n",
    "\n",
    "soup = BeautifulSoup(html_page, 'lxml')\n",
    "for link in soup.findAll('a', attrs={'href': re.compile(\"^http://\")}):\n",
    "    print (link.get('href'))"
   ]
  },
  {
   "cell_type": "code",
   "execution_count": null,
   "metadata": {},
   "outputs": [],
   "source": []
  },
  {
   "cell_type": "code",
   "execution_count": 27,
   "metadata": {},
   "outputs": [
    {
     "name": "stdout",
     "output_type": "stream",
     "text": [
      "['http://video.arstechnica.com/', 'http://arstechnica.com/?view=grid', 'http://arstechnica.com/?view=archive', 'http://arstechnica.com/?view=full', 'http://arstechnica.com/?theme=light', 'http://arstechnica.com/?theme=dark', 'http://video.arstechnica.com', 'http://arstechnica.com/?view=mobile', 'http://condenast.com/', 'http://www.condenast.com/privacy-policy', 'http://www.condenast.com/privacy-policy#privacypolicy', 'http://www.condenast.com/privacy-policy#privacypolicy-california']\n"
     ]
    }
   ],
   "source": [
    "from bs4 import BeautifulSoup\n",
    "from urllib.request import Request, urlopen\n",
    "import re\n",
    " \n",
    "req = Request(\"http://arstechnica.com\")\n",
    "html_page = urlopen(req)    \n",
    "\n",
    "soup = BeautifulSoup(html_page, 'lxml')\n",
    "links = []\n",
    " \n",
    "for link in soup.findAll('a', attrs={'href': re.compile(\"^http://\")}):\n",
    "    links.append(link.get('href'))\n",
    " \n",
    "print(links)"
   ]
  },
  {
   "cell_type": "code",
   "execution_count": null,
   "metadata": {},
   "outputs": [],
   "source": []
  },
  {
   "cell_type": "code",
   "execution_count": 28,
   "metadata": {},
   "outputs": [
    {
     "name": "stdout",
     "output_type": "stream",
     "text": [
      "['http://video.arstechnica.com/', 'http://arstechnica.com/?view=grid', 'http://arstechnica.com/?view=archive', 'http://arstechnica.com/?view=full', 'http://arstechnica.com/?theme=light', 'http://arstechnica.com/?theme=dark', 'http://video.arstechnica.com', 'http://arstechnica.com/?view=mobile', 'http://condenast.com/', 'http://www.condenast.com/privacy-policy', 'http://www.condenast.com/privacy-policy#privacypolicy', 'http://www.condenast.com/privacy-policy#privacypolicy-california']\n"
     ]
    }
   ],
   "source": [
    "from bs4 import BeautifulSoup\n",
    "from urllib.request import Request, urlopen\n",
    "import re\n",
    "\n",
    "def getLinks(url):\n",
    " \n",
    "    req = Request(\"http://arstechnica.com\")\n",
    "    html_page = urlopen(req)    \n",
    "\n",
    "    soup = BeautifulSoup(html_page, 'lxml')\n",
    "    links = []\n",
    " \n",
    "    for link in soup.findAll('a', attrs={'href': re.compile(\"^http://\")}):\n",
    "        links.append(link.get('href'))\n",
    " \n",
    "    return links\n",
    " \n",
    "print( getLinks(\"http://arstechnica.com\") )"
   ]
  },
  {
   "cell_type": "code",
   "execution_count": null,
   "metadata": {},
   "outputs": [],
   "source": []
  }
 ],
 "metadata": {
  "kernelspec": {
   "display_name": "Python 3",
   "language": "python",
   "name": "python3"
  },
  "language_info": {
   "codemirror_mode": {
    "name": "ipython",
    "version": 3
   },
   "file_extension": ".py",
   "mimetype": "text/x-python",
   "name": "python",
   "nbconvert_exporter": "python",
   "pygments_lexer": "ipython3",
   "version": "3.6.0"
  }
 },
 "nbformat": 4,
 "nbformat_minor": 2
}
