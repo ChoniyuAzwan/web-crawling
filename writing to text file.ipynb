{
 "cells": [
  {
   "cell_type": "code",
   "execution_count": 14,
   "metadata": {},
   "outputs": [],
   "source": [
    "f = open(\"test.txt\",\"a\") #opens file with name of \"test.txt\"\n",
    "f.write(\"I am a test file.\")\n",
    "f.write(\"Maybe someday, he will promote me to a real file.\")\n",
    "f.write(\"Man, I long to be a real file\")\n",
    "f.write(\"and hang out with all my new real file friends.\\n\")\n",
    "f.close()"
   ]
  },
  {
   "cell_type": "code",
   "execution_count": 19,
   "metadata": {},
   "outputs": [],
   "source": [
    "# Open function to open the file \"MyFile1.txt\" \n",
    "# (same directory) in append mode and\n",
    "file1 = open(\"MyFile.txt\",\"a\")"
   ]
  },
  {
   "cell_type": "code",
   "execution_count": 20,
   "metadata": {},
   "outputs": [],
   "source": [
    "with open(\"test.txt\", \"a+\") as myfile:\n",
    "    myfile.write(\"appended text\\n\")"
   ]
  },
  {
   "cell_type": "code",
   "execution_count": 41,
   "metadata": {},
   "outputs": [
    {
     "name": "stdout",
     "output_type": "stream",
     "text": [
      "hello world coba-coba hello world coba-coba \n",
      "hello world\n",
      "hello world\n",
      "hello world\n",
      "hello world\n",
      "hello world\n",
      "hello world\n",
      "hello worldhello world coba-coba \n"
     ]
    }
   ],
   "source": [
    "# file-input.py\n",
    "f = open('helloworld.txt', 'a')\n",
    "f.write(\"hello world coba-coba \")\n",
    "f.close\n",
    "f = open('helloworld.txt','r')\n",
    "message = f.read()\n",
    "print(message)\n",
    "f.close()"
   ]
  },
  {
   "cell_type": "code",
   "execution_count": 42,
   "metadata": {},
   "outputs": [
    {
     "name": "stdout",
     "output_type": "stream",
     "text": [
      "hello world coba-coba hello world coba-coba \n",
      "hello world\n",
      "hello world\n",
      "hello world\n",
      "hello world\n",
      "hello world\n",
      "hello world\n",
      "hello worldhello world coba-coba \n",
      "hello world\n"
     ]
    }
   ],
   "source": [
    "# file-append.py\n",
    "f = open('helloworld.txt','a')\n",
    "f.write('\\n' + 'hello world')\n",
    "f = open('helloworld.txt', 'r')\n",
    "message = f.read()\n",
    "print(message)\n",
    "f.close()"
   ]
  },
  {
   "cell_type": "code",
   "execution_count": null,
   "metadata": {},
   "outputs": [],
   "source": []
  }
 ],
 "metadata": {
  "kernelspec": {
   "display_name": "Python 3",
   "language": "python",
   "name": "python3"
  },
  "language_info": {
   "codemirror_mode": {
    "name": "ipython",
    "version": 3
   },
   "file_extension": ".py",
   "mimetype": "text/x-python",
   "name": "python",
   "nbconvert_exporter": "python",
   "pygments_lexer": "ipython3",
   "version": "3.6.0"
  }
 },
 "nbformat": 4,
 "nbformat_minor": 2
}
