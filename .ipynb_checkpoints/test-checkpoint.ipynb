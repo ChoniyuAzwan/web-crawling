{
 "cells": [
  {
   "cell_type": "code",
   "execution_count": 2,
   "metadata": {},
   "outputs": [
    {
     "name": "stderr",
     "output_type": "stream",
     "text": [
      "C:\\Users\\quantum\\Anaconda3\\lib\\site-packages\\bs4\\__init__.py:181: UserWarning: No parser was explicitly specified, so I'm using the best available HTML parser for this system (\"lxml\"). This usually isn't a problem, but if you run this code on another system, or in a different virtual environment, it may use a different parser and behave differently.\n",
      "\n",
      "The code that caused this warning is on line 193 of the file C:\\Users\\quantum\\Anaconda3\\lib\\runpy.py. To get rid of this warning, change code that looks like this:\n",
      "\n",
      " BeautifulSoup([your markup])\n",
      "\n",
      "to this:\n",
      "\n",
      " BeautifulSoup([your markup], \"lxml\")\n",
      "\n",
      "  markup_type=markup_type))\n"
     ]
    },
    {
     "name": "stdout",
     "output_type": "stream",
     "text": [
      "                                                 Words  Frequency\n",
      "0                                            (read, 4)          2\n",
      "1                                          (should, 3)          2\n",
      "2                                            (make, 3)          2\n",
      "3                                            (find, 3)          2\n",
      "4                                              (18, 3)          2\n",
      "5                                             (use, 3)          2\n",
      "6                                             (log, 2)          2\n",
      "7                                           (fixed, 2)          2\n",
      "8                                            (into, 2)          2\n",
      "9                                           (lower, 2)          2\n",
      "10                                        (through, 2)          2\n",
      "11                                          (point, 2)          2\n",
      "12                                            (per, 2)          2\n",
      "13                                       (facebook, 2)          2\n",
      "14                                           (i[r], 2)          2\n",
      "15                                             (43, 1)          2\n",
      "16                                         (active, 1)          2\n",
      "17                                        (options, 1)          2\n",
      "18                                           (home, 1)          2\n",
      "19                                           (used, 1)          2\n",
      "20                                           (ways, 1)          2\n",
      "21                                            (cut, 1)          2\n",
      "22                                     (government, 1)          2\n",
      "23                                         (events, 1)          2\n",
      "24                                           (take, 1)          2\n",
      "25                                          (quick, 1)          2\n",
      "26                                            (184, 1)          2\n",
      "27                                     (conditions, 1)          2\n",
      "28                                        (posting, 1)          2\n",
      "29                                           (such, 1)          2\n",
      "...                                                ...        ...\n",
      "2742            (stackexchange.ga.trackpageview();, 1)          1\n",
      "2743                                          ([],, 1)          1\n",
      "2744                                          (ssl, 1)          1\n",
      "2745                                     ('https:', 1)          1\n",
      "2746                                           (==, 1)          1\n",
      "2747                  (document.location.protocol,, 1)          1\n",
      "2748  (document.getelementsbytagname('script')[0],, 1)          1\n",
      "2749                                           (qc, 1)          1\n",
      "2750                                     (qc.async, 1)          1\n",
      "2751                                       (qc.src, 1)          1\n",
      "2752                             ('https://secure', 1)          1\n",
      "2753                               ('http://edge'), 1)          1\n",
      "2754                  ('.quantserve.com/quant.js';, 1)          1\n",
      "2755                (s.parentnode.insertbefore(qc,, 1)          1\n",
      "2756                              (_qevents.push({, 1)          1\n",
      "2757                                       (qacct:, 1)          1\n",
      "2758                            (\"p-c1rf4kxgluznc\", 1)          1\n",
      "2759                                           (sc, 1)          1\n",
      "2760                                     (sc.async, 1)          1\n",
      "2761                                       (sc.src, 1)          1\n",
      "2762                                 ('https://sb', 1)          1\n",
      "2763                                  ('http://b'), 1)          1\n",
      "2764          ('.scorecardresearch.com/beacon.js';, 1)          1\n",
      "2765                (s.parentnode.insertbefore(sc,, 1)          1\n",
      "2766                             (_comscore.push({, 1)          1\n",
      "2767                                          (c1:, 1)          1\n",
      "2768                                         (\"2\",, 1)          1\n",
      "2769                                          (c2:, 1)          1\n",
      "2770                                   (\"17440561\", 1)          1\n",
      "2771                                        (})();, 1)          1\n",
      "\n",
      "[2772 rows x 2 columns]\n"
     ]
    }
   ],
   "source": [
    "import requests\n",
    "from bs4 import BeautifulSoup\n",
    "from collections import Counter\n",
    "import pandas as pd\n",
    "\n",
    "main_c = Counter() # keep all results here\n",
    "urls = [\"http://www.nerdwallet.com/the-best-credit-cards\",\"http://stackoverflow.com/questions/tagged/python\"]\n",
    "for url in urls:\n",
    "    website = requests.get(url)\n",
    "    soup = BeautifulSoup(website.content)\n",
    "    texts = soup.findAll(text=True)\n",
    "    a = Counter([x.lower() for y in texts for x in y.split()])\n",
    "    b = (a.most_common())\n",
    "    main_c.update(b)\n",
    "make_a_frame = pd.DataFrame(main_c.most_common())\n",
    "make_a_frame.columns = ['Words', 'Frequency']\n",
    "print(make_a_frame)"
   ]
  },
  {
   "cell_type": "code",
   "execution_count": 4,
   "metadata": {},
   "outputs": [
    {
     "data": {
      "text/plain": [
       "2772"
      ]
     },
     "execution_count": 4,
     "metadata": {},
     "output_type": "execute_result"
    }
   ],
   "source": [
    "make_a_frame['Frequency'].count()"
   ]
  },
  {
   "cell_type": "code",
   "execution_count": 7,
   "metadata": {},
   "outputs": [
    {
     "name": "stderr",
     "output_type": "stream",
     "text": [
      "C:\\Users\\quantum\\Anaconda3\\lib\\site-packages\\bs4\\__init__.py:181: UserWarning: No parser was explicitly specified, so I'm using the best available HTML parser for this system (\"lxml\"). This usually isn't a problem, but if you run this code on another system, or in a different virtual environment, it may use a different parser and behave differently.\n",
      "\n",
      "The code that caused this warning is on line 193 of the file C:\\Users\\quantum\\Anaconda3\\lib\\runpy.py. To get rid of this warning, change code that looks like this:\n",
      "\n",
      " BeautifulSoup([your markup])\n",
      "\n",
      "to this:\n",
      "\n",
      " BeautifulSoup([your markup], \"lxml\")\n",
      "\n",
      "  markup_type=markup_type))\n"
     ]
    },
    {
     "name": "stdout",
     "output_type": "stream",
     "text": [
      "                                    Words  Frequency\n",
      "0                          (<![endif], 1)          2\n",
      "1                                  (4, 1)          2\n",
      "2                              (best, 66)          1\n",
      "3                            (credit, 58)          1\n",
      "4                                (to, 45)          1\n",
      "5                       (react-text:, 43)          1\n",
      "6                       (/react-text, 43)          1\n",
      "7                               (for, 37)          1\n",
      "8                               (the, 36)          1\n",
      "9                                (of, 32)          1\n",
      "10                            (cards, 29)          1\n",
      "11                                (a, 29)          1\n",
      "12                                (-, 29)          1\n",
      "13                              (and, 26)          1\n",
      "14                              (apr, 26)          1\n",
      "15                         (variable, 26)          1\n",
      "16                               (//, 26)          1\n",
      "17                             (card, 25)          1\n",
      "18                              (how, 24)          1\n",
      "19                               (in, 22)          1\n",
      "20                          (balance, 20)          1\n",
      "21                       (calculator, 20)          1\n",
      "22                             (cash, 19)          1\n",
      "23                                (=, 19)          1\n",
      "24                              (you, 18)          1\n",
      "25                               (on, 17)          1\n",
      "26                     (react-empty:, 17)          1\n",
      "27                            (first, 17)          1\n",
      "28                            (loans, 14)          1\n",
      "29                          (rewards, 13)          1\n",
      "...                                   ...        ...\n",
      "1400                       (<v:stroke, 1)          1\n",
      "1401             (joinstyle=\"miter\"/>, 1)          1\n",
      "1402                    (<v:formulas>, 1)          1\n",
      "1403                         (eqn=\"if, 1)          1\n",
      "1404                       (linedrawn, 1)          1\n",
      "1405                  (pixellinewidth, 1)          1\n",
      "1406                           (@1\"/>, 1)          1\n",
      "1407                              (@2, 1)          1\n",
      "1408                            (1\"/>, 1)          1\n",
      "1409                              (@6, 1)          1\n",
      "1410                              (@8, 1)          1\n",
      "1411                             (@10, 1)          1\n",
      "1412                   (</v:formulas>, 1)          1\n",
      "1413                         (<v:path, 1)          1\n",
      "1414               (o:extrusionok=\"f\", 1)          1\n",
      "1415             (gradientshapeok=\"t\", 1)          1\n",
      "1416          (o:connecttype=\"rect\"/>, 1)          1\n",
      "1417                         (<o:lock, 1)          1\n",
      "1418               (aspectratio=\"t\"/>, 1)          1\n",
      "1419          (</v:shapetype><v:shape, 1)          1\n",
      "1420               (id=\"_x0000_i1025\", 1)          1\n",
      "1421              (type=\"#_x0000_t75\", 1)          1\n",
      "1422             (style='width:753pt;, 1)          1\n",
      "1423                  (height:612pt'>, 1)          1\n",
      "1424                    (<v:imagedata, 1)          1\n",
      "1425  (src=\"index_files/image001.png\", 1)          1\n",
      "1426          (o:title=\"other_lo.gif\", 1)          1\n",
      "1427             (chromakey=\"white\"/>, 1)          1\n",
      "1428             (</v:shape><![endif], 1)          1\n",
      "1429                        (presents, 1)          1\n",
      "\n",
      "[1430 rows x 2 columns]\n"
     ]
    }
   ],
   "source": [
    "import requests\n",
    "from bs4 import BeautifulSoup\n",
    "from collections import Counter\n",
    "import pandas as pd\n",
    "\n",
    "cnt = Counter()\n",
    "def GetData(url):\n",
    " Website1 = requests.get(url)\n",
    " soup = BeautifulSoup(Website1.content)\n",
    " texts = soup.findAll(text=True)\n",
    " a = Counter([x.lower() for y in texts for x in y.split()])\n",
    " cnt.update(a.most_common())\n",
    "\n",
    "websites = ['http://www.nerdwallet.com/the-best-credit-cards','http://www.other.com']\n",
    "for url in websites:\n",
    " GetData(url)\n",
    "\n",
    "makeaframe = pd.DataFrame(cnt.most_common())\n",
    "makeaframe.columns = ['Words', 'Frequency']\n",
    "print (makeaframe)"
   ]
  },
  {
   "cell_type": "code",
   "execution_count": 9,
   "metadata": {},
   "outputs": [
    {
     "data": {
      "text/plain": [
       "1430"
      ]
     },
     "execution_count": 9,
     "metadata": {},
     "output_type": "execute_result"
    }
   ],
   "source": [
    "makeaframe['Frequency'].count()"
   ]
  },
  {
   "cell_type": "code",
   "execution_count": null,
   "metadata": {},
   "outputs": [],
   "source": []
  }
 ],
 "metadata": {
  "kernelspec": {
   "display_name": "Python 3",
   "language": "python",
   "name": "python3"
  },
  "language_info": {
   "codemirror_mode": {
    "name": "ipython",
    "version": 3
   },
   "file_extension": ".py",
   "mimetype": "text/x-python",
   "name": "python",
   "nbconvert_exporter": "python",
   "pygments_lexer": "ipython3",
   "version": "3.6.0"
  }
 },
 "nbformat": 4,
 "nbformat_minor": 2
}
