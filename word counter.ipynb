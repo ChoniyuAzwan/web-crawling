{
 "cells": [
  {
   "cell_type": "code",
   "execution_count": 1,
   "metadata": {},
   "outputs": [],
   "source": [
    "f = open(\"helloworld.txt\", 'r')\n",
    "filedata = f.read()"
   ]
  },
  {
   "cell_type": "code",
   "execution_count": 4,
   "metadata": {},
   "outputs": [
    {
     "data": {
      "text/plain": [
       "'hello worl'"
      ]
     },
     "execution_count": 4,
     "metadata": {},
     "output_type": "execute_result"
    }
   ],
   "source": [
    "filedata[0:10]"
   ]
  },
  {
   "cell_type": "code",
   "execution_count": 8,
   "metadata": {},
   "outputs": [],
   "source": [
    "word_list = filedata.split(\" \")"
   ]
  },
  {
   "cell_type": "code",
   "execution_count": 9,
   "metadata": {},
   "outputs": [
    {
     "data": {
      "text/plain": [
       "['hello', 'world', 'coba-coba', 'hello']"
      ]
     },
     "execution_count": 9,
     "metadata": {},
     "output_type": "execute_result"
    }
   ],
   "source": [
    "word_list[:4]"
   ]
  },
  {
   "cell_type": "code",
   "execution_count": 7,
   "metadata": {},
   "outputs": [],
   "source": [
    "d = {}"
   ]
  },
  {
   "cell_type": "code",
   "execution_count": 10,
   "metadata": {},
   "outputs": [],
   "source": [
    "for word in word_list:\n",
    "    d[word] = d.get(word, 0) +1"
   ]
  },
  {
   "cell_type": "code",
   "execution_count": 11,
   "metadata": {},
   "outputs": [
    {
     "data": {
      "text/plain": [
       "{'\\nhello': 2,\n",
       " 'coba-coba': 3,\n",
       " 'hello': 2,\n",
       " 'world': 4,\n",
       " 'world\\nhello': 6,\n",
       " 'worldhello': 1}"
      ]
     },
     "execution_count": 11,
     "metadata": {},
     "output_type": "execute_result"
    }
   ],
   "source": [
    "d"
   ]
  },
  {
   "cell_type": "code",
   "execution_count": 20,
   "metadata": {},
   "outputs": [
    {
     "data": {
      "text/plain": [
       "24"
      ]
     },
     "execution_count": 20,
     "metadata": {},
     "output_type": "execute_result"
    }
   ],
   "source": [
    "count=0\n",
    "with open('helloworld.txt') as f:\n",
    "    for line in f:\n",
    "        count += len(line.split())\n",
    "\n",
    "count"
   ]
  },
  {
   "cell_type": "code",
   "execution_count": 16,
   "metadata": {},
   "outputs": [
    {
     "name": "stdout",
     "output_type": "stream",
     "text": [
      "world {'hello': 10, 'world': 10, 'coba-coba': 3, 'worldhello': 1}\n"
     ]
    }
   ],
   "source": [
    "#!/usr/bin/python\n",
    "file=open(\"helloworld.txt\",\"r+\")\n",
    "wordcount={}\n",
    "for word in file.read().split():\n",
    "    if word not in wordcount:\n",
    "        wordcount[word] = 1\n",
    "    else:\n",
    "        wordcount[word] += 1\n",
    "print (word,wordcount)\n",
    "file.close();"
   ]
  },
  {
   "cell_type": "code",
   "execution_count": 28,
   "metadata": {},
   "outputs": [
    {
     "name": "stdout",
     "output_type": "stream",
     "text": [
      "hello\t10\n",
      "world\t10\n",
      "coba-coba\t3\n",
      "worldhello\t1\n"
     ]
    }
   ],
   "source": [
    "file = open('helloworld.txt', 'r')\n",
    "from collections import Counter\n",
    "wordcount = Counter(file.read().split())\n",
    "\n",
    "for item in wordcount.items(): print(\"{}\\t{}\".format(*item))"
   ]
  },
  {
   "cell_type": "code",
   "execution_count": null,
   "metadata": {},
   "outputs": [],
   "source": []
  },
  {
   "cell_type": "code",
   "execution_count": 26,
   "metadata": {},
   "outputs": [
    {
     "name": "stdout",
     "output_type": "stream",
     "text": [
      "The words in the text are:\n",
      "['hello', 'world', 'coba-coba', 'hello', 'world', 'coba-coba', '\\nhello', 'world\\nhello', 'world\\nhello', 'world\\nhello', 'world\\nhello', 'world\\nhello', 'world\\nhello', 'worldhello', 'world', 'coba-coba', '\\nhello', 'world']\n",
      "The number of words is  18\n"
     ]
    }
   ],
   "source": [
    "#! /usr/bin/python\n",
    " \n",
    "f = open(\"helloworld.txt\", \"r\")\n",
    "data = f.read()\n",
    "f.close()\n",
    "\n",
    "words = data.split(\" \")\n",
    "\n",
    "print(\"The words in the text are:\")\n",
    "print(words)\n",
    "num_words = len(words)\n",
    "print(\"The number of words is \", num_words)"
   ]
  },
  {
   "cell_type": "code",
   "execution_count": null,
   "metadata": {},
   "outputs": [],
   "source": []
  },
  {
   "cell_type": "code",
   "execution_count": 34,
   "metadata": {},
   "outputs": [
    {
     "name": "stdout",
     "output_type": "stream",
     "text": [
      "The number of words are:  18\n"
     ]
    }
   ],
   "source": [
    "filename = 'helloworld.txt'\n",
    "\n",
    "words = 0\n",
    "textfile = open(filename, 'r')\n",
    "data = textfile.read()\n",
    "\n",
    "# For each word in the file, split the text on the empty character\n",
    "for wordcount in data.split(\" \"):\n",
    "  #Count the word\n",
    "  words += 1\n",
    "\n",
    "#Print the result\n",
    "print(\"The number of words are: \", words)"
   ]
  },
  {
   "cell_type": "code",
   "execution_count": null,
   "metadata": {},
   "outputs": [],
   "source": []
  }
 ],
 "metadata": {
  "kernelspec": {
   "display_name": "Python 3",
   "language": "python",
   "name": "python3"
  },
  "language_info": {
   "codemirror_mode": {
    "name": "ipython",
    "version": 3
   },
   "file_extension": ".py",
   "mimetype": "text/x-python",
   "name": "python",
   "nbconvert_exporter": "python",
   "pygments_lexer": "ipython3",
   "version": "3.6.0"
  }
 },
 "nbformat": 4,
 "nbformat_minor": 2
}
